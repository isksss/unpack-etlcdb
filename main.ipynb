{
  "nbformat": 4,
  "nbformat_minor": 0,
  "metadata": {
    "colab": {
      "name": "Untitled0.ipynb",
      "provenance": [],
      "authorship_tag": "ABX9TyMaPeZ2Hpx/5xiNJFouqWeD"
    },
    "kernelspec": {
      "name": "python3",
      "display_name": "Python 3"
    },
    "language_info": {
      "name": "python"
    }
  },
  "cells": [
    {
      "cell_type": "markdown",
      "source": [
        "## 事前準備"
      ],
      "metadata": {
        "id": "zvv5P8Z4_av3"
      }
    },
    {
      "cell_type": "code",
      "source": [
        "# google driveへの接続\n",
        "\n",
        "from google.colab import drive\n",
        "drive.mount('/content/drive')"
      ],
      "metadata": {
        "id": "3GoVEPJ1_glX"
      },
      "execution_count": null,
      "outputs": []
    },
    {
      "cell_type": "markdown",
      "source": [
        "## CONST\n",
        "定数の宣言"
      ],
      "metadata": {
        "id": "OSNCxGCy_Lpg"
      }
    },
    {
      "cell_type": "code",
      "execution_count": null,
      "metadata": {
        "id": "gdfB8Pl6-R8_"
      },
      "outputs": [],
      "source": [
        ""
      ]
    },
    {
      "cell_type": "markdown",
      "source": [
        "## 処理"
      ],
      "metadata": {
        "id": "XPLPreeT_Twm"
      }
    },
    {
      "cell_type": "code",
      "source": [
        ""
      ],
      "metadata": {
        "id": "WlEY0-4H_Y8e"
      },
      "execution_count": null,
      "outputs": []
    }
  ]
}