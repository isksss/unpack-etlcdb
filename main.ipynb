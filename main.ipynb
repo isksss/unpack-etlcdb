{
  "nbformat": 4,
  "nbformat_minor": 0,
  "metadata": {
    "colab": {
      "name": "main.ipynb",
      "provenance": [],
      "collapsed_sections": [],
      "mount_file_id": "https://github.com/isksss/unpack-etlcdb/blob/main/main.ipynb",
      "authorship_tag": "ABX9TyMXi703dGMFI7a4CfhF/Pcs"
    },
    "kernelspec": {
      "name": "python3",
      "display_name": "Python 3"
    },
    "language_info": {
      "name": "python"
    }
  },
  "cells": [
    {
      "cell_type": "markdown",
      "source": [
        "## 事前準備"
      ],
      "metadata": {
        "id": "zvv5P8Z4_av3"
      }
    },
    {
      "cell_type": "code",
      "source": [
        "# google driveへの接続\n",
        "\n",
        "from google.colab import drive\n",
        "drive.mount('/content/drive')"
      ],
      "metadata": {
        "id": "3GoVEPJ1_glX",
        "colab": {
          "base_uri": "https://localhost:8080/"
        },
        "outputId": "fddafd6e-aad5-4aaa-94f5-c581746090f1"
      },
      "execution_count": 1,
      "outputs": [
        {
          "output_type": "stream",
          "name": "stdout",
          "text": [
            "Mounted at /content/drive\n"
          ]
        }
      ]
    },
    {
      "cell_type": "markdown",
      "source": [
        "## CONST\n",
        "定数の宣言  \n",
        "ここは各自の環境に合わせて変更してください。ここではGoogleDriveを用いて行うことにします。  \n",
        "ルートフォルダ内にdataフォルダを作成し、そこにダウンロードしたzipファイルを入れていください。"
      ],
      "metadata": {
        "id": "OSNCxGCy_Lpg"
      }
    },
    {
      "cell_type": "code",
      "execution_count": 3,
      "metadata": {
        "id": "gdfB8Pl6-R8_"
      },
      "outputs": [],
      "source": [
        "## rootフォルダ\n",
        "ROOT_DIR = \"/content/drive/MyDrive/Colab Notebooks/unpack-etlcdb\"\n",
        "\n",
        "## 出力フォルダ\n",
        "OUTPUT_DIR = ROOT_DIR+ \"/output\"\n",
        "\n",
        "## DATA\n",
        "DATE_DIR = \"/data\""
      ]
    },
    {
      "cell_type": "code",
      "source": [
        "### フォルダ作成\n",
        "import os\n",
        "#### 上記のフォルダがなかった場合、作成する処理をここに入れる"
      ],
      "metadata": {
        "id": "oFndWVMjMags"
      },
      "execution_count": 24,
      "outputs": []
    },
    {
      "cell_type": "markdown",
      "source": [
        "## 処理"
      ],
      "metadata": {
        "id": "XPLPreeT_Twm"
      }
    },
    {
      "cell_type": "markdown",
      "source": [
        "### import"
      ],
      "metadata": {
        "id": "il5vNCtKK-s8"
      }
    },
    {
      "cell_type": "code",
      "source": [
        "### import\n",
        "import shutil\n",
        "\n",
        "import struct\n",
        "from PIL import Image, ImageEnhance\n",
        "\n",
        "import glob\n",
        "import os"
      ],
      "metadata": {
        "id": "WlEY0-4H_Y8e"
      },
      "execution_count": 6,
      "outputs": []
    },
    {
      "cell_type": "markdown",
      "source": [
        "### unzip"
      ],
      "metadata": {
        "id": "IdMbiInELAw8"
      }
    },
    {
      "cell_type": "code",
      "source": [
        "etl9b_path = '/content/drive/MyDrive/code/ETLCDB/ETL9B.zip' # ここにetl9bのパスを入力\n",
        "\n",
        "shutil.unpack_archive(etl9b_path ,OUTPUT_DIR+\"/unzip\")"
      ],
      "metadata": {
        "id": "HbCmp3AZNAaj"
      },
      "execution_count": null,
      "outputs": []
    },
    {
      "cell_type": "markdown",
      "source": [
        "### binary -> png"
      ],
      "metadata": {
        "id": "zv5KV6JkLMst"
      }
    },
    {
      "cell_type": "code",
      "source": [
        "\n",
        "dataset_dir = '/content/drive/MyDrive/Colab Notebooks/unpack-etlcdb/output/unzip'\n",
        "\n",
        "files = glob.glob(dataset_dir + '/ETL9B/*') # 解凍したバイナリファイルのpath\n",
        "\n",
        "for fname in files:\n",
        "    if fname == dataset_dir + \"/ETL9B/ETL9BINFO\": continue # 情報ファイルは飛ばす\n",
        "    if fname == dataset_dir + \"/ETL9B/output\": continue\n",
        "    print(fname)\n",
        "\n",
        "    f = open(fname, 'rb')\n",
        "    # f.seek(0) # ポインタを先頭に\n",
        "    f.seek(577)\n",
        "    while True:\n",
        "\n",
        "        s = f.read(576) \n",
        "        if not s: break\n",
        "        # バイナリデータなのでPythonが理解できるように抽出\n",
        "        r = struct.unpack('>2H4s504s64x', s)\n",
        "\n",
        "        kanjicode_jis = r[1]\n",
        "        #test\n",
        "        print(kanjicode_jis)\n",
        "        print(r)\n",
        "        #/test\n",
        "\n",
        "        # 画像を抽出\n",
        "        iF = Image.frombytes('1', (64, 63), r[3], 'raw')\n",
        "        iP = iF.convert('L')\n",
        "        dir = OUTPUT_DIR+ \"/etl9b/\" + str(kanjicode_jis)\n",
        "        print(dir)\n",
        "        if not os.path.exists(dir): \n",
        "          os.makedirs(dir)\n",
        "        fn = \"{0:02x}-{1:02x}{2:04}.png\".format(kanjicode_jis, r[0], r[2])\n",
        "        # fn = \"{0:02x}-{1:02x}.png\".format(kanjicode_jis, r[0])\n",
        "        fullpath = dir + \"/\" + fn\n",
        "        if os.path.exists(fullpath): continue\n",
        "        enhancer = ImageEnhance.Brightness(iP)\n",
        "        iE = enhancer.enhance(16)\n",
        "        iE.save(fullpath, 'PNG')"
      ],
      "metadata": {
        "id": "RHDmBektNA1L"
      },
      "execution_count": null,
      "outputs": []
    },
    {
      "cell_type": "markdown",
      "source": [
        "### make-pickle"
      ],
      "metadata": {
        "id": "VqQzxywdLSZc"
      }
    },
    {
      "cell_type": "code",
      "source": [
        ""
      ],
      "metadata": {
        "id": "2-2Mc-jzNBXr"
      },
      "execution_count": null,
      "outputs": []
    },
    {
      "cell_type": "markdown",
      "source": [
        "### learning"
      ],
      "metadata": {
        "id": "rlBzoYAqLW-0"
      }
    },
    {
      "cell_type": "code",
      "source": [
        ""
      ],
      "metadata": {
        "id": "wVOjaYQTNB3U"
      },
      "execution_count": null,
      "outputs": []
    }
  ]
}