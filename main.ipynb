{
  "cells": [
    {
      "cell_type": "markdown",
      "metadata": {
        "id": "zvv5P8Z4_av3"
      },
      "source": [
        "## 事前準備"
      ]
    },
    {
      "cell_type": "code",
      "execution_count": 1,
      "metadata": {
        "id": "3GoVEPJ1_glX",
        "colab": {
          "base_uri": "https://localhost:8080/"
        },
        "outputId": "fc91f5cc-51ee-43fe-8541-7c4058c1d87b"
      },
      "outputs": [
        {
          "output_type": "stream",
          "name": "stdout",
          "text": [
            "Mounted at /content/drive\n"
          ]
        }
      ],
      "source": [
        " # google driveへの接続\n",
        "\n",
        "from google.colab import drive\n",
        "drive.mount('/content/drive')"
      ]
    },
    {
      "cell_type": "markdown",
      "metadata": {
        "id": "OSNCxGCy_Lpg"
      },
      "source": [
        "## CONST\n",
        "定数の宣言  \n",
        "ここは各自の環境に合わせて変更してください。ここではGoogleDriveを用いて行うことにします。  \n",
        "ルートフォルダ内にdataフォルダを作成し、そこにダウンロードしたzipファイルを入れていください。"
      ]
    },
    {
      "cell_type": "code",
      "execution_count": 2,
      "metadata": {
        "id": "gdfB8Pl6-R8_"
      },
      "outputs": [],
      "source": [
        "## rootフォルダ\n",
        "ROOT_DIR = \"/content/drive/MyDrive/Colab Notebooks/unpack-etlcdb\"\n",
        "\n",
        "## 出力フォルダ\n",
        "OUTPUT_DIR = ROOT_DIR+ \"/output\"\n",
        "\n",
        "## DATA\n",
        "DATE_DIR = \"/data\""
      ]
    },
    {
      "cell_type": "code",
      "execution_count": null,
      "metadata": {
        "id": "oFndWVMjMags"
      },
      "outputs": [],
      "source": [
        "### フォルダ作成\n",
        "import os\n",
        "#### 上記のフォルダがなかった場合、作成する処理をここに入れる"
      ]
    },
    {
      "cell_type": "markdown",
      "metadata": {
        "id": "XPLPreeT_Twm"
      },
      "source": [
        "## 処理"
      ]
    },
    {
      "cell_type": "markdown",
      "metadata": {
        "id": "il5vNCtKK-s8"
      },
      "source": [
        "### import"
      ]
    },
    {
      "cell_type": "code",
      "execution_count": 3,
      "metadata": {
        "id": "WlEY0-4H_Y8e"
      },
      "outputs": [],
      "source": [
        "### import\n",
        "import shutil\n",
        "\n",
        "import struct\n",
        "from PIL import Image, ImageEnhance\n",
        "\n",
        "import glob\n",
        "import os\n",
        "\n",
        "### make pickle\n",
        "import numpy as np\n",
        "import cv2\n",
        "import matplotlib.pyplot as plt\n",
        "import glob\n",
        "import pickle"
      ]
    },
    {
      "cell_type": "markdown",
      "metadata": {
        "id": "IdMbiInELAw8"
      },
      "source": [
        "### unzip"
      ]
    },
    {
      "cell_type": "code",
      "execution_count": null,
      "metadata": {
        "id": "HbCmp3AZNAaj"
      },
      "outputs": [],
      "source": [
        "etl9b_path = '/content/drive/MyDrive/code/ETLCDB/ETL9B.zip' # ここにetl9bのパスを入力\n",
        "\n",
        "shutil.unpack_archive(etl9b_path ,OUTPUT_DIR+\"/unzip\")"
      ]
    },
    {
      "cell_type": "markdown",
      "metadata": {
        "id": "zv5KV6JkLMst"
      },
      "source": [
        "### binary -> png"
      ]
    },
    {
      "cell_type": "code",
      "execution_count": null,
      "metadata": {
        "id": "RHDmBektNA1L"
      },
      "outputs": [],
      "source": [
        "\n",
        "dataset_dir = OUTPUT_DIR + '/unzip'\n",
        "\n",
        "files = glob.glob(dataset_dir + '/ETL9B/*') # 解凍したバイナリファイルのpath\n",
        "\n",
        "for fname in files:\n",
        "    print('===== ===== =====')\n",
        "    if fname == dataset_dir + \"/ETL9B/ETL9BINFO\": continue # 情報ファイルは飛ばす\n",
        "    if fname == dataset_dir + \"/ETL9B/output\": continue\n",
        "    print(fname)\n",
        "\n",
        "    f = open(fname, 'rb')\n",
        "    # f.seek(0) # ポインタを先頭に\n",
        "    f.seek(576)\n",
        "    while True:\n",
        "        print('      ----- -----')\n",
        "        s = f.read(576) \n",
        "        if not s: break\n",
        "        # バイナリデータなのでPythonが理解できるように抽出\n",
        "        r = struct.unpack('>2H4s504s64x', s)\n",
        "\n",
        "        kanjicode_jis = r[1]\n",
        "        #test\n",
        "        # print(kanjicode_jis)\n",
        "        # print(r)\n",
        "        #/test\n",
        "\n",
        "        # 画像を抽出\n",
        "        iF = Image.frombytes('1', (64, 63), r[3], 'raw')\n",
        "        # iF = Image.frombytes('1', (64, 63), r[3], 'bit')\n",
        "        iP = iF.convert('L')\n",
        "        dir = OUTPUT_DIR+ \"/etl9b/\" + str(kanjicode_jis)\n",
        "        print(dir)\n",
        "        if not os.path.exists(dir): \n",
        "          os.makedirs(dir)\n",
        "\n",
        "        #####\n",
        "        print(\"r[0]: \" + str(r[0]))\n",
        "        print(\"r[1]: \" + str(r[1]))\n",
        "        print(\"r[2]: \" + str(r[2]))\n",
        "        #####\n",
        "\n",
        "        # fn = \"{0:02x}-{1:02x}{2:04}.png\".format(kanjicode_jis, r[0], r[2])\n",
        "        # fn = \"{0:02x}-{1:02x}.png\".format(kanjicode_jis, r[0])\n",
        "        fn = \"{0:02x}-{1:02x}{2}.png\".format(kanjicode_jis, r[0], r[2])\n",
        "        print('fn: ' + fn)\n",
        "        #####\n",
        "\n",
        "        fullpath = dir + \"/\" + fn\n",
        "        if os.path.exists(fullpath): continue\n",
        "        enhancer = ImageEnhance.Brightness(iP)\n",
        "        iE = enhancer.enhance(16)\n",
        "        iE.save(fullpath, 'PNG')"
      ]
    },
    {
      "cell_type": "markdown",
      "metadata": {
        "id": "VqQzxywdLSZc"
      },
      "source": [
        "### make-pickle"
      ]
    },
    {
      "cell_type": "code",
      "execution_count": null,
      "metadata": {
        "id": "2-2Mc-jzNBXr"
      },
      "outputs": [],
      "source": [
        "# 保存ディレクトリと画像サイズの指定\n",
        "out_dir = '/content/drive/MyDrive/Colab Notebooks/unpack-etlcdb/output/etl9b'\n",
        "im_size = 64 # 画像サイズ\n",
        "\n",
        "save_file = \"/content/drive/MyDrive/Colab Notebooks/unpack-etlcdb/output/pickle/ETL9B.pickle\" # 保存ファイル名と保存先\n",
        "plt.figure(figsize=(9, 17)) \n",
        "\n",
        "# 画像ディレクトリから画像を読み込み開始\n",
        "files = os.listdir(out_dir)\n",
        "files_dir = [f for f in files if os.path.isdir(os.path.join(out_dir, f))]\n",
        "\n",
        "result = []\n",
        "for i, code in enumerate(files_dir):\n",
        "    img_dir = out_dir + \"/\" + str(code)\n",
        "    fs = glob.glob(img_dir + \"/*\")\n",
        "    print(\"dir=\",  img_dir)\n",
        "\n",
        "    # 画像64X63を読み込んでグレイスケールに変換し64X64に整形\n",
        "    for j, f in enumerate(fs):\n",
        "      try:\n",
        "        img = cv2.imread(f)\n",
        "        img_gray = cv2.cvtColor(img, cv2.COLOR_BGR2GRAY)\n",
        "        img = cv2.resize(img_gray, (im_size, im_size))\n",
        "        result.append([i, img])\n",
        "      except :\n",
        "        print(\"ERROR: \"+ i)\n",
        "\n",
        "\n",
        "# 「画像とラベル」のデータセットを保存\n",
        "pickle.dump(result, open(save_file, \"wb\"))\n",
        "plt.show()"
      ]
    },
    {
      "cell_type": "markdown",
      "source": [
        "#### make pickle(sub)\n",
        "同時にdampするversion"
      ],
      "metadata": {
        "id": "dqwSJKECQV6M"
      }
    },
    {
      "cell_type": "code",
      "source": [
        "###test\n",
        "dir = []"
      ],
      "metadata": {
        "id": "f1yUFqQLo_Jb"
      },
      "execution_count": null,
      "outputs": []
    },
    {
      "cell_type": "code",
      "source": [
        "# 保存ディレクトリと画像サイズの指定\n",
        "out_dir = '/content/drive/MyDrive/Colab Notebooks/unpack-etlcdb/output/etl9b'\n",
        "im_size = 64 # 画像サイズ\n",
        "\n",
        "save_file = \"/content/drive/MyDrive/Colab Notebooks/unpack-etlcdb/output/pickle/ETL9B.pickle\" # 保存ファイル名と保存先\n",
        "plt.figure(figsize=(9, 17)) \n",
        "\n",
        "# 画像ディレクトリから画像を読み込み開始\n",
        "files = os.listdir(out_dir)\n",
        "files_dir = [f for f in files if os.path.isdir(os.path.join(out_dir, f))]\n",
        "\n",
        "result = []\n",
        "for i, code in enumerate(files_dir):\n",
        "    img_dir = out_dir + \"/\" + str(code)\n",
        "    fs = glob.glob(img_dir + \"/*\")\n",
        "    print(\"dir=\",  img_dir)\n",
        "\n",
        "    # 画像64X63を読み込んでグレイスケールに変換し64X64に整形\n",
        "    for j, f in enumerate(fs):\n",
        "      try:\n",
        "        img = cv2.imread(f)\n",
        "        img_gray = cv2.cvtColor(img, cv2.COLOR_BGR2GRAY)\n",
        "        img = cv2.resize(img_gray, (im_size, im_size))\n",
        "        result.append([i, img])\n",
        "        try:\n",
        "          pickle.dump(result, open(save_file, \"ab\"))\n",
        "        except:\n",
        "          print(\"damp error:\" + str(i))\n",
        "      except :\n",
        "        print(\"ERROR: \"+ str(i))\n",
        "\n",
        "\n",
        "# 「画像とラベル」のデータセットを保存\n",
        "pickle.dump(result, open(save_file, \"ab\"))\n",
        "plt.show()"
      ],
      "metadata": {
        "id": "6_eIK9AnQeme"
      },
      "execution_count": null,
      "outputs": []
    },
    {
      "cell_type": "markdown",
      "metadata": {
        "id": "rlBzoYAqLW-0"
      },
      "source": [
        "### learning"
      ]
    },
    {
      "cell_type": "code",
      "execution_count": null,
      "metadata": {
        "id": "wVOjaYQTNB3U"
      },
      "outputs": [],
      "source": [
        ""
      ]
    }
  ],
  "metadata": {
    "accelerator": "TPU",
    "colab": {
      "collapsed_sections": [],
      "name": "main.ipynb",
      "provenance": [],
      "mount_file_id": "https://github.com/isksss/unpack-etlcdb/blob/main/main.ipynb",
      "authorship_tag": "ABX9TyOR5ARPVhasKlRyQZ9YTK8G"
    },
    "gpuClass": "standard",
    "kernelspec": {
      "display_name": "Python 3",
      "name": "python3"
    },
    "language_info": {
      "name": "python"
    }
  },
  "nbformat": 4,
  "nbformat_minor": 0
}